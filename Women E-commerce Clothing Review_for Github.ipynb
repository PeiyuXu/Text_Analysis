{
 "cells": [
  {
   "cell_type": "markdown",
   "metadata": {},
   "source": [
    "# Women E-commerce Clothing Review"
   ]
  },
  {
   "cell_type": "markdown",
   "metadata": {},
   "source": [
    "Author: Peiyu Xu"
   ]
  },
  {
   "cell_type": "markdown",
   "metadata": {},
   "source": [
    "# Introduction and Motivation\n",
    "\n",
    "\n",
    "With the growth of e-commerce in particular in the apparel industry, user-submitted open-ended text reviews often accompanied with a Likert scale rating and questions about the willingness of the customer to recommend the product are becoming an increasingly important metric with which retailers can gather feedback directly from their clientele. This project considers the importance of this data relevant to the industry and executes a two-step analysis of a dataset containing online reviews left for an e-commerce merchant in order to make recommendations to benefit the business. A classification analysis was conducted comparing K-nearest neighbors, support vector machine, logistic regression and random forest models and validating with a test data subset, to determine the variables that are key drivers of the recommendation intent of the consumer. In a second step, a text mining experiment was used to examine and visualize customer satisfaction and understand customer preferences from the open-ended text responses collected.\n",
    "\n",
    "Source of the dataset: https://www.kaggle.com/nicapotato/womens-ecommerce-clothing-reviews\n",
    "\n",
    "This is a part of my course project. Co-contributors are: Zhen, Alex, Qiaoshan, Shyenna, and Yu. \n",
    "\n",
    "Part of my code is inspired by: https://www.analyticsvidhya.com/blog/2018/02/the-different-methods-deal-text-data-predictive-python/\n"
   ]
  },
  {
   "cell_type": "markdown",
   "metadata": {},
   "source": [
    "# Variable Information\n",
    "1. **Clothing ID**: Integer Categorical variable that refers to the specific piece being reviewed.\n",
    "2. **Age**:Positive Integer variable of the reviewers age.\n",
    "3. **Title**:String variable for the title of the review\n",
    "4. **Review Text**: String variable for the review body.\n",
    "5. **Rating**:Positive Ordinal Integer variable for the product score granted by the customer from 1 Worst, to 5 Best.\n",
    "6. **Recommended IND**: Binary variable stating where the customer recommends the product where 1 is recommended, 0 is not recommended.\n",
    "7. **Positive Feedback Count**: Positive Integer documenting the number of other customers who found this review positive.\n",
    "8. **Division Name**: Categorical name of the product high level division.\n",
    "9. **Department Name**: Categorical name of the product department name.\n",
    "10. **Class Name**: Categorical name of the product class name."
   ]
  },
  {
   "cell_type": "markdown",
   "metadata": {},
   "source": [
    "## Import dataset and simple exploration"
   ]
  },
  {
   "cell_type": "code",
   "execution_count": 1,
   "metadata": {},
   "outputs": [],
   "source": [
    "# packages\n",
    "import pandas as pd\n",
    "import numpy as np\n",
    "import nltk\n",
    "import matplotlib as plt\n",
    "from matplotlib import pyplot\n",
    "import seaborn as sns"
   ]
  },
  {
   "cell_type": "code",
   "execution_count": 2,
   "metadata": {},
   "outputs": [],
   "source": [
    "df=pd.read_csv(r\"Womens Clothing E-Commerce Reviews.csv\")"
   ]
  },
  {
   "cell_type": "code",
   "execution_count": 3,
   "metadata": {},
   "outputs": [
    {
     "data": {
      "text/plain": [
       "(23486, 11)"
      ]
     },
     "execution_count": 3,
     "metadata": {},
     "output_type": "execute_result"
    }
   ],
   "source": [
    "df.shape"
   ]
  },
  {
   "cell_type": "code",
   "execution_count": 4,
   "metadata": {},
   "outputs": [
    {
     "data": {
      "text/html": [
       "<div>\n",
       "<style scoped>\n",
       "    .dataframe tbody tr th:only-of-type {\n",
       "        vertical-align: middle;\n",
       "    }\n",
       "\n",
       "    .dataframe tbody tr th {\n",
       "        vertical-align: top;\n",
       "    }\n",
       "\n",
       "    .dataframe thead th {\n",
       "        text-align: right;\n",
       "    }\n",
       "</style>\n",
       "<table border=\"1\" class=\"dataframe\">\n",
       "  <thead>\n",
       "    <tr style=\"text-align: right;\">\n",
       "      <th></th>\n",
       "      <th>Unnamed: 0</th>\n",
       "      <th>Clothing ID</th>\n",
       "      <th>Age</th>\n",
       "      <th>Rating</th>\n",
       "      <th>Recommended IND</th>\n",
       "      <th>Positive Feedback Count</th>\n",
       "    </tr>\n",
       "  </thead>\n",
       "  <tbody>\n",
       "    <tr>\n",
       "      <th>count</th>\n",
       "      <td>23486.000000</td>\n",
       "      <td>23486.000000</td>\n",
       "      <td>23486.000000</td>\n",
       "      <td>23486.000000</td>\n",
       "      <td>23486.000000</td>\n",
       "      <td>23486.000000</td>\n",
       "    </tr>\n",
       "    <tr>\n",
       "      <th>mean</th>\n",
       "      <td>11742.500000</td>\n",
       "      <td>918.118709</td>\n",
       "      <td>43.198544</td>\n",
       "      <td>4.196032</td>\n",
       "      <td>0.822362</td>\n",
       "      <td>2.535936</td>\n",
       "    </tr>\n",
       "    <tr>\n",
       "      <th>std</th>\n",
       "      <td>6779.968547</td>\n",
       "      <td>203.298980</td>\n",
       "      <td>12.279544</td>\n",
       "      <td>1.110031</td>\n",
       "      <td>0.382216</td>\n",
       "      <td>5.702202</td>\n",
       "    </tr>\n",
       "    <tr>\n",
       "      <th>min</th>\n",
       "      <td>0.000000</td>\n",
       "      <td>0.000000</td>\n",
       "      <td>18.000000</td>\n",
       "      <td>1.000000</td>\n",
       "      <td>0.000000</td>\n",
       "      <td>0.000000</td>\n",
       "    </tr>\n",
       "    <tr>\n",
       "      <th>25%</th>\n",
       "      <td>5871.250000</td>\n",
       "      <td>861.000000</td>\n",
       "      <td>34.000000</td>\n",
       "      <td>4.000000</td>\n",
       "      <td>1.000000</td>\n",
       "      <td>0.000000</td>\n",
       "    </tr>\n",
       "    <tr>\n",
       "      <th>50%</th>\n",
       "      <td>11742.500000</td>\n",
       "      <td>936.000000</td>\n",
       "      <td>41.000000</td>\n",
       "      <td>5.000000</td>\n",
       "      <td>1.000000</td>\n",
       "      <td>1.000000</td>\n",
       "    </tr>\n",
       "    <tr>\n",
       "      <th>75%</th>\n",
       "      <td>17613.750000</td>\n",
       "      <td>1078.000000</td>\n",
       "      <td>52.000000</td>\n",
       "      <td>5.000000</td>\n",
       "      <td>1.000000</td>\n",
       "      <td>3.000000</td>\n",
       "    </tr>\n",
       "    <tr>\n",
       "      <th>max</th>\n",
       "      <td>23485.000000</td>\n",
       "      <td>1205.000000</td>\n",
       "      <td>99.000000</td>\n",
       "      <td>5.000000</td>\n",
       "      <td>1.000000</td>\n",
       "      <td>122.000000</td>\n",
       "    </tr>\n",
       "  </tbody>\n",
       "</table>\n",
       "</div>"
      ],
      "text/plain": [
       "         Unnamed: 0   Clothing ID           Age        Rating  \\\n",
       "count  23486.000000  23486.000000  23486.000000  23486.000000   \n",
       "mean   11742.500000    918.118709     43.198544      4.196032   \n",
       "std     6779.968547    203.298980     12.279544      1.110031   \n",
       "min        0.000000      0.000000     18.000000      1.000000   \n",
       "25%     5871.250000    861.000000     34.000000      4.000000   \n",
       "50%    11742.500000    936.000000     41.000000      5.000000   \n",
       "75%    17613.750000   1078.000000     52.000000      5.000000   \n",
       "max    23485.000000   1205.000000     99.000000      5.000000   \n",
       "\n",
       "       Recommended IND  Positive Feedback Count  \n",
       "count     23486.000000             23486.000000  \n",
       "mean          0.822362                 2.535936  \n",
       "std           0.382216                 5.702202  \n",
       "min           0.000000                 0.000000  \n",
       "25%           1.000000                 0.000000  \n",
       "50%           1.000000                 1.000000  \n",
       "75%           1.000000                 3.000000  \n",
       "max           1.000000               122.000000  "
      ]
     },
     "execution_count": 4,
     "metadata": {},
     "output_type": "execute_result"
    }
   ],
   "source": [
    "df.describe()"
   ]
  },
  {
   "cell_type": "code",
   "execution_count": 5,
   "metadata": {},
   "outputs": [],
   "source": [
    "# drop the index column\n",
    "df.drop('Unnamed: 0',1,inplace=True)"
   ]
  },
  {
   "cell_type": "code",
   "execution_count": 6,
   "metadata": {},
   "outputs": [
    {
     "data": {
      "text/plain": [
       "Clothing ID                   0\n",
       "Age                           0\n",
       "Title                      3810\n",
       "Review Text                 845\n",
       "Rating                        0\n",
       "Recommended IND               0\n",
       "Positive Feedback Count       0\n",
       "Division Name                14\n",
       "Department Name              14\n",
       "Class Name                   14\n",
       "dtype: int64"
      ]
     },
     "execution_count": 6,
     "metadata": {},
     "output_type": "execute_result"
    }
   ],
   "source": [
    "# check missing values\n",
    "df.isnull().sum()"
   ]
  },
  {
   "cell_type": "code",
   "execution_count": 7,
   "metadata": {},
   "outputs": [],
   "source": [
    "# change the data type of Clothing ID\n",
    "df['Clothing ID']=df['Clothing ID'].astype(str)"
   ]
  },
  {
   "cell_type": "code",
   "execution_count": 8,
   "metadata": {},
   "outputs": [
    {
     "data": {
      "text/html": [
       "<div>\n",
       "<style scoped>\n",
       "    .dataframe tbody tr th:only-of-type {\n",
       "        vertical-align: middle;\n",
       "    }\n",
       "\n",
       "    .dataframe tbody tr th {\n",
       "        vertical-align: top;\n",
       "    }\n",
       "\n",
       "    .dataframe thead th {\n",
       "        text-align: right;\n",
       "    }\n",
       "</style>\n",
       "<table border=\"1\" class=\"dataframe\">\n",
       "  <thead>\n",
       "    <tr style=\"text-align: right;\">\n",
       "      <th></th>\n",
       "      <th>Age</th>\n",
       "      <th>Rating</th>\n",
       "      <th>Recommended IND</th>\n",
       "      <th>Positive Feedback Count</th>\n",
       "    </tr>\n",
       "  </thead>\n",
       "  <tbody>\n",
       "    <tr>\n",
       "      <th>Age</th>\n",
       "      <td>1.000000</td>\n",
       "      <td>0.026831</td>\n",
       "      <td>0.030622</td>\n",
       "      <td>0.043079</td>\n",
       "    </tr>\n",
       "    <tr>\n",
       "      <th>Rating</th>\n",
       "      <td>0.026831</td>\n",
       "      <td>1.000000</td>\n",
       "      <td>0.792336</td>\n",
       "      <td>-0.064961</td>\n",
       "    </tr>\n",
       "    <tr>\n",
       "      <th>Recommended IND</th>\n",
       "      <td>0.030622</td>\n",
       "      <td>0.792336</td>\n",
       "      <td>1.000000</td>\n",
       "      <td>-0.069045</td>\n",
       "    </tr>\n",
       "    <tr>\n",
       "      <th>Positive Feedback Count</th>\n",
       "      <td>0.043079</td>\n",
       "      <td>-0.064961</td>\n",
       "      <td>-0.069045</td>\n",
       "      <td>1.000000</td>\n",
       "    </tr>\n",
       "  </tbody>\n",
       "</table>\n",
       "</div>"
      ],
      "text/plain": [
       "                              Age    Rating  Recommended IND  \\\n",
       "Age                      1.000000  0.026831         0.030622   \n",
       "Rating                   0.026831  1.000000         0.792336   \n",
       "Recommended IND          0.030622  0.792336         1.000000   \n",
       "Positive Feedback Count  0.043079 -0.064961        -0.069045   \n",
       "\n",
       "                         Positive Feedback Count  \n",
       "Age                                     0.043079  \n",
       "Rating                                 -0.064961  \n",
       "Recommended IND                        -0.069045  \n",
       "Positive Feedback Count                 1.000000  "
      ]
     },
     "execution_count": 8,
     "metadata": {},
     "output_type": "execute_result"
    }
   ],
   "source": [
    "# check correlation\n",
    "df.corr()"
   ]
  },
  {
   "cell_type": "code",
   "execution_count": 9,
   "metadata": {},
   "outputs": [
    {
     "data": {
      "text/html": [
       "<div>\n",
       "<style scoped>\n",
       "    .dataframe tbody tr th:only-of-type {\n",
       "        vertical-align: middle;\n",
       "    }\n",
       "\n",
       "    .dataframe tbody tr th {\n",
       "        vertical-align: top;\n",
       "    }\n",
       "\n",
       "    .dataframe thead th {\n",
       "        text-align: right;\n",
       "    }\n",
       "</style>\n",
       "<table border=\"1\" class=\"dataframe\">\n",
       "  <thead>\n",
       "    <tr style=\"text-align: right;\">\n",
       "      <th></th>\n",
       "      <th>unique</th>\n",
       "      <th>top</th>\n",
       "      <th>freq</th>\n",
       "    </tr>\n",
       "  </thead>\n",
       "  <tbody>\n",
       "    <tr>\n",
       "      <th>Division Name</th>\n",
       "      <td>3</td>\n",
       "      <td>General</td>\n",
       "      <td>13850</td>\n",
       "    </tr>\n",
       "    <tr>\n",
       "      <th>Department Name</th>\n",
       "      <td>6</td>\n",
       "      <td>Tops</td>\n",
       "      <td>10468</td>\n",
       "    </tr>\n",
       "    <tr>\n",
       "      <th>Class Name</th>\n",
       "      <td>20</td>\n",
       "      <td>Dresses</td>\n",
       "      <td>6319</td>\n",
       "    </tr>\n",
       "  </tbody>\n",
       "</table>\n",
       "</div>"
      ],
      "text/plain": [
       "                unique      top   freq\n",
       "Division Name        3  General  13850\n",
       "Department Name      6     Tops  10468\n",
       "Class Name          20  Dresses   6319"
      ]
     },
     "execution_count": 9,
     "metadata": {},
     "output_type": "execute_result"
    }
   ],
   "source": [
    "df[['Division Name','Department Name','Class Name']].describe().T.drop('count',1)"
   ]
  },
  {
   "cell_type": "code",
   "execution_count": 10,
   "metadata": {},
   "outputs": [
    {
     "data": {
      "text/plain": [
       "(23472, 10)"
      ]
     },
     "execution_count": 10,
     "metadata": {},
     "output_type": "execute_result"
    }
   ],
   "source": [
    "df1=df.copy()\n",
    "df1=df1.dropna(subset=[\"Division Name\"],axis=0)\n",
    "df1.shape"
   ]
  },
  {
   "cell_type": "code",
   "execution_count": 11,
   "metadata": {},
   "outputs": [
    {
     "data": {
      "text/plain": [
       "<seaborn.axisgrid.FacetGrid at 0x1c64b10cf28>"
      ]
     },
     "execution_count": 11,
     "metadata": {},
     "output_type": "execute_result"
    },
    {
     "data": {
      "image/png": "[encoded data removed]",
      "text/plain": [
       "<Figure size 360x360 with 1 Axes>"
      ]
     },
     "metadata": {
      "needs_background": "light"
     },
     "output_type": "display_data"
    }
   ],
   "source": [
    "# division * rating\n",
    "sns.catplot(x=\"Division Name\", y=\"Rating\", kind=\"box\", data=df1)"
   ]
  },
  {
   "cell_type": "code",
   "execution_count": 12,
   "metadata": {},
   "outputs": [
    {
     "data": {
      "text/plain": [
       "<seaborn.axisgrid.FacetGrid at 0x1c64b28c550>"
      ]
     },
     "execution_count": 12,
     "metadata": {},
     "output_type": "execute_result"
    },
    {
     "data": {
      "image/png": "[encoded data removed]",
      "text/plain": [
       "<Figure size 360x360 with 1 Axes>"
      ]
     },
     "metadata": {
      "needs_background": "light"
     },
     "output_type": "display_data"
    }
   ],
   "source": [
    "# department * rating\n",
    "sns.catplot(x=\"Department Name\", y=\"Rating\", kind=\"box\", data=df1)"
   ]
  },
  {
   "cell_type": "markdown",
   "metadata": {},
   "source": [
    "The Trend Department doesn't look good. At least 25% of ratings are 1. "
   ]
  },
  {
   "cell_type": "code",
   "execution_count": 13,
   "metadata": {},
   "outputs": [
    {
     "data": {
      "image/png": "[encoded data removed]",
      "text/plain": [
       "<Figure size 842.4x595.44 with 1 Axes>"
      ]
     },
     "metadata": {
      "needs_background": "light"
     },
     "output_type": "display_data"
    },
    {
     "data": {
      "image/png": "[encoded data removed]",
      "text/plain": [
       "<Figure size 360x360 with 1 Axes>"
      ]
     },
     "metadata": {
      "needs_background": "light"
     },
     "output_type": "display_data"
    }
   ],
   "source": [
    "# class * rating\n",
    "a4_dims = (11.7, 8.27)\n",
    "fig, ax = pyplot.subplots(figsize=a4_dims)\n",
    "sns.catplot(ax=ax,y=\"Class Name\", x=\"Rating\", kind=\"box\",orient=\"h\",data=df1);"
   ]
  },
  {
   "cell_type": "code",
   "execution_count": 14,
   "metadata": {},
   "outputs": [
    {
     "name": "stdout",
     "output_type": "stream",
     "text": [
      "[1644 5328 6857 4711 3060 1543  230   84   15]\n",
      "[18. 27. 36. 45. 54. 63. 72. 81. 90. 99.]\n"
     ]
    },
    {
     "data": {
      "text/plain": [
       "<matplotlib.axes._subplots.AxesSubplot at 0x1c64c8be6d8>"
      ]
     },
     "execution_count": 14,
     "metadata": {},
     "output_type": "execute_result"
    },
    {
     "data": {
      "image/png": "[encoded data removed]",
      "text/plain": [
       "<Figure size 720x576 with 1 Axes>"
      ]
     },
     "metadata": {
      "needs_background": "light"
     },
     "output_type": "display_data"
    }
   ],
   "source": [
    "# histogram for age\n",
    "count, bin_edges=np.histogram(df1['Age'], 9)\n",
    "print(count)  #how many bins \n",
    "print(bin_edges)\n",
    "df1['Age'].plot(kind='hist', figsize=(10 ,8 ), xticks=bin_edges)"
   ]
  },
  {
   "cell_type": "markdown",
   "metadata": {},
   "source": [
    "So most of the customers are middle-aged."
   ]
  },
  {
   "cell_type": "markdown",
   "metadata": {},
   "source": [
    "# Review Analysis"
   ]
  },
  {
   "cell_type": "code",
   "execution_count": 15,
   "metadata": {},
   "outputs": [],
   "source": [
    "# import packages\n",
    "import nltk"
   ]
  },
  {
   "cell_type": "code",
   "execution_count": 16,
   "metadata": {
    "scrolled": true
   },
   "outputs": [
    {
     "data": {
      "text/plain": [
       "Clothing ID                object\n",
       "Age                         int64\n",
       "Title                      object\n",
       "Review Text                object\n",
       "Rating                      int64\n",
       "Recommended IND             int64\n",
       "Positive Feedback Count     int64\n",
       "Division Name              object\n",
       "Department Name            object\n",
       "Class Name                 object\n",
       "dtype: object"
      ]
     },
     "execution_count": 16,
     "metadata": {},
     "output_type": "execute_result"
    }
   ],
   "source": [
    "# check data types\n",
    "df1.dtypes"
   ]
  },
  {
   "cell_type": "code",
   "execution_count": 17,
   "metadata": {},
   "outputs": [],
   "source": [
    "df1['Review Text']=df1['Review Text'].astype(str)"
   ]
  },
  {
   "cell_type": "code",
   "execution_count": 18,
   "metadata": {
    "scrolled": true
   },
   "outputs": [
    {
     "data": {
      "text/plain": [
       "0     8\n",
       "1    67\n",
       "2    98\n",
       "3    22\n",
       "4    36\n",
       "Name: word_count, dtype: int64"
      ]
     },
     "execution_count": 18,
     "metadata": {},
     "output_type": "execute_result"
    }
   ],
   "source": [
    "# number of words\n",
    "df1['word_count'] = df1['Review Text'].apply(lambda x: len(str(x).split(\" \")))\n",
    "df1['word_count'].head()"
   ]
  },
  {
   "cell_type": "code",
   "execution_count": 19,
   "metadata": {
    "scrolled": true
   },
   "outputs": [
    {
     "data": {
      "text/plain": [
       "0     53\n",
       "1    303\n",
       "2    500\n",
       "3    124\n",
       "4    192\n",
       "Name: char_count, dtype: int64"
      ]
     },
     "execution_count": 19,
     "metadata": {},
     "output_type": "execute_result"
    }
   ],
   "source": [
    "# number of characters, include space\n",
    "df1['char_count'] = df1['Review Text'].str.len()\n",
    "df1['char_count'].head()"
   ]
  },
  {
   "cell_type": "code",
   "execution_count": 20,
   "metadata": {
    "scrolled": true
   },
   "outputs": [
    {
     "data": {
      "text/html": [
       "<div>\n",
       "<style scoped>\n",
       "    .dataframe tbody tr th:only-of-type {\n",
       "        vertical-align: middle;\n",
       "    }\n",
       "\n",
       "    .dataframe tbody tr th {\n",
       "        vertical-align: top;\n",
       "    }\n",
       "\n",
       "    .dataframe thead th {\n",
       "        text-align: right;\n",
       "    }\n",
       "</style>\n",
       "<table border=\"1\" class=\"dataframe\">\n",
       "  <thead>\n",
       "    <tr style=\"text-align: right;\">\n",
       "      <th></th>\n",
       "      <th>Review Text</th>\n",
       "      <th>avg_word</th>\n",
       "    </tr>\n",
       "  </thead>\n",
       "  <tbody>\n",
       "    <tr>\n",
       "      <th>0</th>\n",
       "      <td>Absolutely wonderful - silky and sexy and comf...</td>\n",
       "      <td>5.750000</td>\n",
       "    </tr>\n",
       "    <tr>\n",
       "      <th>1</th>\n",
       "      <td>Love this dress!  it's sooo pretty.  i happene...</td>\n",
       "      <td>3.822581</td>\n",
       "    </tr>\n",
       "    <tr>\n",
       "      <th>2</th>\n",
       "      <td>I had such high hopes for this dress and reall...</td>\n",
       "      <td>4.112245</td>\n",
       "    </tr>\n",
       "    <tr>\n",
       "      <th>3</th>\n",
       "      <td>I love, love, love this jumpsuit. it's fun, fl...</td>\n",
       "      <td>4.681818</td>\n",
       "    </tr>\n",
       "    <tr>\n",
       "      <th>4</th>\n",
       "      <td>This shirt is very flattering to all due to th...</td>\n",
       "      <td>4.361111</td>\n",
       "    </tr>\n",
       "  </tbody>\n",
       "</table>\n",
       "</div>"
      ],
      "text/plain": [
       "                                         Review Text  avg_word\n",
       "0  Absolutely wonderful - silky and sexy and comf...  5.750000\n",
       "1  Love this dress!  it's sooo pretty.  i happene...  3.822581\n",
       "2  I had such high hopes for this dress and reall...  4.112245\n",
       "3  I love, love, love this jumpsuit. it's fun, fl...  4.681818\n",
       "4  This shirt is very flattering to all due to th...  4.361111"
      ]
     },
     "execution_count": 20,
     "metadata": {},
     "output_type": "execute_result"
    }
   ],
   "source": [
    "# avg word length, total length of sentence/sum the length of all words\n",
    "def avg_word(sentence):\n",
    "  words = sentence.split()\n",
    "  return (sum(len(word) for word in words)/len(words))\n",
    "\n",
    "df1['avg_word'] = df1['Review Text'].apply(lambda x: avg_word(x))\n",
    "df1[['Review Text','avg_word']].head()"
   ]
  },
  {
   "cell_type": "code",
   "execution_count": 21,
   "metadata": {},
   "outputs": [
    {
     "data": {
      "text/html": [
       "<div>\n",
       "<style scoped>\n",
       "    .dataframe tbody tr th:only-of-type {\n",
       "        vertical-align: middle;\n",
       "    }\n",
       "\n",
       "    .dataframe tbody tr th {\n",
       "        vertical-align: top;\n",
       "    }\n",
       "\n",
       "    .dataframe thead th {\n",
       "        text-align: right;\n",
       "    }\n",
       "</style>\n",
       "<table border=\"1\" class=\"dataframe\">\n",
       "  <thead>\n",
       "    <tr style=\"text-align: right;\">\n",
       "      <th></th>\n",
       "      <th>Review Text</th>\n",
       "      <th>stopwords</th>\n",
       "    </tr>\n",
       "  </thead>\n",
       "  <tbody>\n",
       "    <tr>\n",
       "      <th>0</th>\n",
       "      <td>Absolutely wonderful - silky and sexy and comf...</td>\n",
       "      <td>2</td>\n",
       "    </tr>\n",
       "    <tr>\n",
       "      <th>1</th>\n",
       "      <td>Love this dress!  it's sooo pretty.  i happene...</td>\n",
       "      <td>30</td>\n",
       "    </tr>\n",
       "    <tr>\n",
       "      <th>2</th>\n",
       "      <td>I had such high hopes for this dress and reall...</td>\n",
       "      <td>45</td>\n",
       "    </tr>\n",
       "    <tr>\n",
       "      <th>3</th>\n",
       "      <td>I love, love, love this jumpsuit. it's fun, fl...</td>\n",
       "      <td>6</td>\n",
       "    </tr>\n",
       "    <tr>\n",
       "      <th>4</th>\n",
       "      <td>This shirt is very flattering to all due to th...</td>\n",
       "      <td>19</td>\n",
       "    </tr>\n",
       "  </tbody>\n",
       "</table>\n",
       "</div>"
      ],
      "text/plain": [
       "                                         Review Text  stopwords\n",
       "0  Absolutely wonderful - silky and sexy and comf...          2\n",
       "1  Love this dress!  it's sooo pretty.  i happene...         30\n",
       "2  I had such high hopes for this dress and reall...         45\n",
       "3  I love, love, love this jumpsuit. it's fun, fl...          6\n",
       "4  This shirt is very flattering to all due to th...         19"
      ]
     },
     "execution_count": 21,
     "metadata": {},
     "output_type": "execute_result"
    }
   ],
   "source": [
    "# number of stop words\n",
    "from nltk.corpus import stopwords\n",
    "stop = stopwords.words('english')\n",
    "df1['stopwords'] = df1['Review Text'].apply(lambda x: len([x for x in x.split() if x in stop]))\n",
    "df1[['Review Text','stopwords']].head()"
   ]
  },
  {
   "cell_type": "code",
   "execution_count": 22,
   "metadata": {
    "scrolled": true
   },
   "outputs": [
    {
     "data": {
      "text/plain": [
       "count    23472.000000\n",
       "mean         0.307132\n",
       "std          0.717852\n",
       "min          0.000000\n",
       "25%          0.000000\n",
       "50%          0.000000\n",
       "75%          0.000000\n",
       "max          8.000000\n",
       "Name: numerics, dtype: float64"
      ]
     },
     "execution_count": 22,
     "metadata": {},
     "output_type": "execute_result"
    }
   ],
   "source": [
    "# number or numerics\n",
    "df1['numerics']=df1['Review Text'].apply(lambda x: len([x for x in x.split() if x.isdigit()]))\n",
    "df1[['Review Text','numerics']].head()\n",
    "df1['numerics'].describe()"
   ]
  },
  {
   "cell_type": "code",
   "execution_count": 23,
   "metadata": {},
   "outputs": [
    {
     "data": {
      "text/html": [
       "<div>\n",
       "<style scoped>\n",
       "    .dataframe tbody tr th:only-of-type {\n",
       "        vertical-align: middle;\n",
       "    }\n",
       "\n",
       "    .dataframe tbody tr th {\n",
       "        vertical-align: top;\n",
       "    }\n",
       "\n",
       "    .dataframe thead th {\n",
       "        text-align: right;\n",
       "    }\n",
       "</style>\n",
       "<table border=\"1\" class=\"dataframe\">\n",
       "  <thead>\n",
       "    <tr style=\"text-align: right;\">\n",
       "      <th></th>\n",
       "      <th>Review Text</th>\n",
       "      <th>upper</th>\n",
       "    </tr>\n",
       "  </thead>\n",
       "  <tbody>\n",
       "    <tr>\n",
       "      <th>0</th>\n",
       "      <td>Absolutely wonderful - silky and sexy and comf...</td>\n",
       "      <td>0</td>\n",
       "    </tr>\n",
       "    <tr>\n",
       "      <th>1</th>\n",
       "      <td>Love this dress!  it's sooo pretty.  i happene...</td>\n",
       "      <td>0</td>\n",
       "    </tr>\n",
       "    <tr>\n",
       "      <th>2</th>\n",
       "      <td>I had such high hopes for this dress and reall...</td>\n",
       "      <td>1</td>\n",
       "    </tr>\n",
       "    <tr>\n",
       "      <th>3</th>\n",
       "      <td>I love, love, love this jumpsuit. it's fun, fl...</td>\n",
       "      <td>1</td>\n",
       "    </tr>\n",
       "    <tr>\n",
       "      <th>4</th>\n",
       "      <td>This shirt is very flattering to all due to th...</td>\n",
       "      <td>0</td>\n",
       "    </tr>\n",
       "  </tbody>\n",
       "</table>\n",
       "</div>"
      ],
      "text/plain": [
       "                                         Review Text  upper\n",
       "0  Absolutely wonderful - silky and sexy and comf...      0\n",
       "1  Love this dress!  it's sooo pretty.  i happene...      0\n",
       "2  I had such high hopes for this dress and reall...      1\n",
       "3  I love, love, love this jumpsuit. it's fun, fl...      1\n",
       "4  This shirt is very flattering to all due to th...      0"
      ]
     },
     "execution_count": 23,
     "metadata": {},
     "output_type": "execute_result"
    }
   ],
   "source": [
    "# number of uppercase words\n",
    "df1['upper']=df1['Review Text'].apply(lambda x:len([x for x in x.split() if x.isupper()]))\n",
    "df1[['Review Text','upper']].head()"
   ]
  },
  {
   "cell_type": "markdown",
   "metadata": {},
   "source": [
    "## Basic Pre-processing"
   ]
  },
  {
   "cell_type": "code",
   "execution_count": 24,
   "metadata": {},
   "outputs": [
    {
     "data": {
      "text/plain": [
       "0    absolutely wonderful - silky and sexy and comf...\n",
       "1    love this dress! it's sooo pretty. i happened ...\n",
       "2    i had such high hopes for this dress and reall...\n",
       "3    i love, love, love this jumpsuit. it's fun, fl...\n",
       "4    this shirt is very flattering to all due to th...\n",
       "Name: text, dtype: object"
      ]
     },
     "execution_count": 24,
     "metadata": {},
     "output_type": "execute_result"
    }
   ],
   "source": [
    "# convert to lower case\n",
    "df1['text']=df1['Review Text'].apply(lambda x: \" \".join(x.lower() for x in x.split()))\n",
    "df1['text'].head()"
   ]
  },
  {
   "cell_type": "code",
   "execution_count": 25,
   "metadata": {},
   "outputs": [
    {
     "data": {
      "text/plain": [
       "0    absolutely wonderful  silky and sexy and comfo...\n",
       "1    love this dress its sooo pretty i happened to ...\n",
       "2    i had such high hopes for this dress and reall...\n",
       "3    i love love love this jumpsuit its fun flirty ...\n",
       "4    this shirt is very flattering to all due to th...\n",
       "Name: text, dtype: object"
      ]
     },
     "execution_count": 25,
     "metadata": {},
     "output_type": "execute_result"
    }
   ],
   "source": [
    "# remove punctuation\n",
    "df1['text']=df1['text'].str.replace('[^\\w\\s]','')\n",
    "df1['text'].head()"
   ]
  },
  {
   "cell_type": "code",
   "execution_count": 26,
   "metadata": {},
   "outputs": [
    {
     "data": {
      "text/plain": [
       "0          absolutely wonderful silky sexy comfortable\n",
       "1    love dress sooo pretty happened find store im ...\n",
       "2    high hopes dress really wanted work initially ...\n",
       "3    love love love jumpsuit fun flirty fabulous ev...\n",
       "4    shirt flattering due adjustable front tie perf...\n",
       "Name: text, dtype: object"
      ]
     },
     "execution_count": 26,
     "metadata": {},
     "output_type": "execute_result"
    }
   ],
   "source": [
    "# remove stop words\n",
    "stop=stopwords.words('english')\n",
    "df1['text']=df1['text'].apply(lambda x:\" \".join(x for x in x.split() if x not in stop))\n",
    "df1['text'].head()"
   ]
  },
  {
   "cell_type": "code",
   "execution_count": 27,
   "metadata": {},
   "outputs": [
    {
     "data": {
      "text/plain": [
       "dress    10460\n",
       "love      8910\n",
       "size      8685\n",
       "top       7323\n",
       "fit       7235\n",
       "like      6991\n",
       "wear      6409\n",
       "great     6073\n",
       "im        5973\n",
       "would     5009\n",
       "dtype: int64"
      ]
     },
     "execution_count": 27,
     "metadata": {},
     "output_type": "execute_result"
    }
   ],
   "source": [
    "# check the most common words\n",
    "freq = pd.Series(' '.join(df1['text']).split()).value_counts()\n",
    "freq[:10]"
   ]
  },
  {
   "cell_type": "code",
   "execution_count": 28,
   "metadata": {},
   "outputs": [
    {
     "data": {
      "text/plain": [
       "checklist         1\n",
       "beautifulive      1\n",
       "fashionwise       1\n",
       "retire            1\n",
       "streaking         1\n",
       "nocal             1\n",
       "justeverything    1\n",
       "362636            1\n",
       "8italian          1\n",
       "duties            1\n",
       "dtype: int64"
      ]
     },
     "execution_count": 28,
     "metadata": {},
     "output_type": "execute_result"
    }
   ],
   "source": [
    "# check least common words\n",
    "freq[-10:]"
   ]
  },
  {
   "cell_type": "markdown",
   "metadata": {},
   "source": [
    "## Sentiment Analysis"
   ]
  },
  {
   "cell_type": "code",
   "execution_count": 29,
   "metadata": {},
   "outputs": [
    {
     "name": "stdout",
     "output_type": "stream",
     "text": [
      "Sentiment(polarity=0.31875000000000003, subjectivity=0.7250000000000001)\n",
      " \n",
      "0.31875000000000003\n"
     ]
    }
   ],
   "source": [
    "# sentiment \n",
    "from textblob import TextBlob\n",
    "testimonial = TextBlob(df1['text'][1])\n",
    "print(testimonial.sentiment)\n",
    "print(\" \")\n",
    "print(testimonial.sentiment.polarity)"
   ]
  },
  {
   "cell_type": "code",
   "execution_count": 30,
   "metadata": {},
   "outputs": [],
   "source": [
    "def detect_polarity(text):\n",
    "    return TextBlob(text).sentiment.polarity\n",
    "def detect_subjectivity(text):\n",
    "    return TextBlob(text).sentiment.subjectivity"
   ]
  },
  {
   "cell_type": "code",
   "execution_count": 31,
   "metadata": {},
   "outputs": [
    {
     "data": {
      "text/plain": [
       "0    0.633333\n",
       "1    0.318750\n",
       "2    0.082300\n",
       "3    0.500000\n",
       "4    0.458333\n",
       "Name: polarity, dtype: float64"
      ]
     },
     "execution_count": 31,
     "metadata": {},
     "output_type": "execute_result"
    }
   ],
   "source": [
    "df1['polarity'] = df1['text'].apply(detect_polarity)\n",
    "df1['polarity'].head()"
   ]
  },
  {
   "cell_type": "code",
   "execution_count": 32,
   "metadata": {},
   "outputs": [
    {
     "data": {
      "text/plain": [
       "0    0.933333\n",
       "1    0.725000\n",
       "2    0.345866\n",
       "3    0.625000\n",
       "4    0.658333\n",
       "Name: subjectivity, dtype: float64"
      ]
     },
     "execution_count": 32,
     "metadata": {},
     "output_type": "execute_result"
    }
   ],
   "source": [
    "df1['subjectivity']=df1['text'].apply(detect_subjectivity)\n",
    "df1['subjectivity'].head()"
   ]
  },
  {
   "cell_type": "code",
   "execution_count": 33,
   "metadata": {},
   "outputs": [],
   "source": [
    "from nltk.sentiment.vader import SentimentIntensityAnalyzer"
   ]
  },
  {
   "cell_type": "code",
   "execution_count": 34,
   "metadata": {},
   "outputs": [],
   "source": [
    "SIA = SentimentIntensityAnalyzer()\n",
    "df1['text']= df1[\"text\"].astype(str)\n",
    "\n",
    "# Applying Model, Variable Creation\n",
    "df1['Polarity Score']=df1[\"text\"].apply(lambda x:SIA.polarity_scores(x)['compound'])\n",
    "df1['Neutral Score']=df1[\"text\"].apply(lambda x:SIA.polarity_scores(x)['neu'])\n",
    "df1['Negative Score']=df1[\"text\"].apply(lambda x:SIA.polarity_scores(x)['neg'])\n",
    "df1['Positive Score']=df1[\"text\"].apply(lambda x:SIA.polarity_scores(x)['pos'])\n",
    "\n",
    "# Converting 0 to 1 Decimal Score to a Categorical Variable\n",
    "df1['Sentiment']=''\n",
    "df1.loc[df1['Polarity Score']>0,'Sentiment']='Positive'\n",
    "df1.loc[df1['Polarity Score']==0,'Sentiment']='Neutral'\n",
    "df1.loc[df1['Polarity Score']<0,'Sentiment']='Negative'"
   ]
  },
  {
   "cell_type": "code",
   "execution_count": 35,
   "metadata": {},
   "outputs": [
    {
     "data": {
      "text/plain": [
       "0                    absolut wonder silki sexi comfort\n",
       "1    love dress sooo pretti happen find store im gl...\n",
       "2    high hope dress realli want work initi order p...\n",
       "3    love love love jumpsuit fun flirti fabul everi...\n",
       "4    shirt flatter due adjust front tie perfect len...\n",
       "Name: stem, dtype: object"
      ]
     },
     "execution_count": 35,
     "metadata": {},
     "output_type": "execute_result"
    }
   ],
   "source": [
    "# stemming\n",
    "from nltk.stem import PorterStemmer\n",
    "st=PorterStemmer()\n",
    "df1['stem']=df1['text'].apply(lambda x:\" \".join([st.stem(word) for word in x.split()]))\n",
    "df1['stem'].head()"
   ]
  },
  {
   "cell_type": "code",
   "execution_count": 36,
   "metadata": {
    "scrolled": true
   },
   "outputs": [
    {
     "data": {
      "text/plain": [
       "0          absolutely wonderful silky sexy comfortable\n",
       "1    love dress sooo pretty happened find store im ...\n",
       "2    high hope dress really wanted work initially o...\n",
       "3    love love love jumpsuit fun flirty fabulous ev...\n",
       "4    shirt flattering due adjustable front tie perf...\n",
       "Name: lem, dtype: object"
      ]
     },
     "execution_count": 36,
     "metadata": {},
     "output_type": "execute_result"
    }
   ],
   "source": [
    "# lemmatazation\n",
    "from textblob import Word\n",
    "df1['lem']=df1['text'].apply(lambda x: \" \".join([Word(word).lemmatize() for word in x.split()]))\n",
    "df1['lem'].head()"
   ]
  },
  {
   "cell_type": "code",
   "execution_count": 37,
   "metadata": {
    "scrolled": true
   },
   "outputs": [
    {
     "data": {
      "text/html": [
       "<div>\n",
       "<style scoped>\n",
       "    .dataframe tbody tr th:only-of-type {\n",
       "        vertical-align: middle;\n",
       "    }\n",
       "\n",
       "    .dataframe tbody tr th {\n",
       "        vertical-align: top;\n",
       "    }\n",
       "\n",
       "    .dataframe thead th {\n",
       "        text-align: right;\n",
       "    }\n",
       "</style>\n",
       "<table border=\"1\" class=\"dataframe\">\n",
       "  <thead>\n",
       "    <tr style=\"text-align: right;\">\n",
       "      <th></th>\n",
       "      <th>Age</th>\n",
       "      <th>Rating</th>\n",
       "      <th>Recommended IND</th>\n",
       "      <th>Positive Feedback Count</th>\n",
       "      <th>word_count</th>\n",
       "      <th>char_count</th>\n",
       "      <th>avg_word</th>\n",
       "      <th>stopwords</th>\n",
       "      <th>numerics</th>\n",
       "      <th>upper</th>\n",
       "      <th>polarity</th>\n",
       "      <th>subjectivity</th>\n",
       "      <th>Polarity Score</th>\n",
       "      <th>Neutral Score</th>\n",
       "      <th>Negative Score</th>\n",
       "      <th>Positive Score</th>\n",
       "    </tr>\n",
       "    <tr>\n",
       "      <th>Division Name</th>\n",
       "      <th></th>\n",
       "      <th></th>\n",
       "      <th></th>\n",
       "      <th></th>\n",
       "      <th></th>\n",
       "      <th></th>\n",
       "      <th></th>\n",
       "      <th></th>\n",
       "      <th></th>\n",
       "      <th></th>\n",
       "      <th></th>\n",
       "      <th></th>\n",
       "      <th></th>\n",
       "      <th></th>\n",
       "      <th></th>\n",
       "      <th></th>\n",
       "    </tr>\n",
       "  </thead>\n",
       "  <tbody>\n",
       "    <tr>\n",
       "      <th>General</th>\n",
       "      <td>43.345848</td>\n",
       "      <td>4.176606</td>\n",
       "      <td>0.816823</td>\n",
       "      <td>2.578845</td>\n",
       "      <td>58.650181</td>\n",
       "      <td>300.464910</td>\n",
       "      <td>4.148952</td>\n",
       "      <td>28.250181</td>\n",
       "      <td>0.313574</td>\n",
       "      <td>0.378845</td>\n",
       "      <td>0.241515</td>\n",
       "      <td>0.543346</td>\n",
       "      <td>0.749659</td>\n",
       "      <td>0.595031</td>\n",
       "      <td>0.049986</td>\n",
       "      <td>0.354984</td>\n",
       "    </tr>\n",
       "    <tr>\n",
       "      <th>General Petite</th>\n",
       "      <td>43.334729</td>\n",
       "      <td>4.211084</td>\n",
       "      <td>0.825985</td>\n",
       "      <td>2.601601</td>\n",
       "      <td>58.220320</td>\n",
       "      <td>298.179433</td>\n",
       "      <td>4.147300</td>\n",
       "      <td>28.036207</td>\n",
       "      <td>0.312069</td>\n",
       "      <td>0.381034</td>\n",
       "      <td>0.247457</td>\n",
       "      <td>0.550691</td>\n",
       "      <td>0.755432</td>\n",
       "      <td>0.592675</td>\n",
       "      <td>0.047825</td>\n",
       "      <td>0.359498</td>\n",
       "    </tr>\n",
       "    <tr>\n",
       "      <th>Initmates</th>\n",
       "      <td>41.137816</td>\n",
       "      <td>4.286285</td>\n",
       "      <td>0.852197</td>\n",
       "      <td>1.804261</td>\n",
       "      <td>52.382157</td>\n",
       "      <td>270.660453</td>\n",
       "      <td>4.195092</td>\n",
       "      <td>24.945406</td>\n",
       "      <td>0.221039</td>\n",
       "      <td>0.339547</td>\n",
       "      <td>0.241751</td>\n",
       "      <td>0.545936</td>\n",
       "      <td>0.722585</td>\n",
       "      <td>0.595390</td>\n",
       "      <td>0.045334</td>\n",
       "      <td>0.359300</td>\n",
       "    </tr>\n",
       "  </tbody>\n",
       "</table>\n",
       "</div>"
      ],
      "text/plain": [
       "                      Age    Rating  Recommended IND  Positive Feedback Count  \\\n",
       "Division Name                                                                   \n",
       "General         43.345848  4.176606         0.816823                 2.578845   \n",
       "General Petite  43.334729  4.211084         0.825985                 2.601601   \n",
       "Initmates       41.137816  4.286285         0.852197                 1.804261   \n",
       "\n",
       "                word_count  char_count  avg_word  stopwords  numerics  \\\n",
       "Division Name                                                           \n",
       "General          58.650181  300.464910  4.148952  28.250181  0.313574   \n",
       "General Petite   58.220320  298.179433  4.147300  28.036207  0.312069   \n",
       "Initmates        52.382157  270.660453  4.195092  24.945406  0.221039   \n",
       "\n",
       "                   upper  polarity  subjectivity  Polarity Score  \\\n",
       "Division Name                                                      \n",
       "General         0.378845  0.241515      0.543346        0.749659   \n",
       "General Petite  0.381034  0.247457      0.550691        0.755432   \n",
       "Initmates       0.339547  0.241751      0.545936        0.722585   \n",
       "\n",
       "                Neutral Score  Negative Score  Positive Score  \n",
       "Division Name                                                  \n",
       "General              0.595031        0.049986        0.354984  \n",
       "General Petite       0.592675        0.047825        0.359498  \n",
       "Initmates            0.595390        0.045334        0.359300  "
      ]
     },
     "execution_count": 37,
     "metadata": {},
     "output_type": "execute_result"
    }
   ],
   "source": [
    "# group by department\n",
    "df1.groupby('Division Name', axis=0).mean()"
   ]
  },
  {
   "cell_type": "markdown",
   "metadata": {},
   "source": [
    "Interpretation of the above table:\n",
    "I aggregate the numerical values by Division Name. From this, I can profile customers.\n",
    "\n",
    "1. The General Division: Customers are middle-aged and less generous on giving 5-star ratings. They are the least possible to recommend the product but the average positive feedback count is close to that of \"General Petite\" which means reviews are generally positive.\n",
    "\n",
    "\n",
    "2. The average age and review features of the customers from the General Petite Division are simliar to customers from the General Division.\n",
    "\n",
    "\n",
    "3. Customers of Intimates are the youngest. They are highly likely to recommend the intimates products and they used less words in their reviews. However, their reviews are less identified as positive, compared to other groups of customers."
   ]
  },
  {
   "cell_type": "markdown",
   "metadata": {},
   "source": [
    "## Advanced Text Processing"
   ]
  },
  {
   "cell_type": "code",
   "execution_count": 38,
   "metadata": {},
   "outputs": [
    {
     "data": {
      "text/plain": [
       "dress         11319\n",
       "fit           10088\n",
       "size           9347\n",
       "love           8962\n",
       "top            8256\n",
       "like           7017\n",
       "color          6902\n",
       "look           6872\n",
       "wear           6507\n",
       "great          6073\n",
       "im             5973\n",
       "would          5009\n",
       "fabric         4843\n",
       "small          4561\n",
       "really         3920\n",
       "ordered        3831\n",
       "little         3769\n",
       "perfect        3729\n",
       "one            3694\n",
       "flattering     3483\n",
       "dtype: int64"
      ]
     },
     "execution_count": 38,
     "metadata": {},
     "output_type": "execute_result"
    }
   ],
   "source": [
    "# document frequency\n",
    "freq = pd.Series(' '.join(df1['lem']).split()).value_counts()\n",
    "# show top 20\n",
    "freq.head(20)"
   ]
  },
  {
   "cell_type": "code",
   "execution_count": 39,
   "metadata": {},
   "outputs": [
    {
     "name": "stdout",
     "output_type": "stream",
     "text": [
      "Wordcloud is installed and imported!\n"
     ]
    }
   ],
   "source": [
    "# word cloud\n",
    "from wordcloud import WordCloud, STOPWORDS\n",
    "print ('Wordcloud is installed and imported!')\n",
    "import matplotlib as mpl\n",
    "import matplotlib.pyplot as plt"
   ]
  },
  {
   "cell_type": "code",
   "execution_count": 40,
   "metadata": {},
   "outputs": [],
   "source": [
    "stopwords = set(STOPWORDS)"
   ]
  },
  {
   "cell_type": "code",
   "execution_count": 41,
   "metadata": {},
   "outputs": [
    {
     "data": {
      "image/png": "[encoded data removed]",
      "text/plain": [
       "<Figure size 432x288 with 1 Axes>"
      ]
     },
     "metadata": {
      "needs_background": "light"
     },
     "output_type": "display_data"
    }
   ],
   "source": [
    "# initate a wordcloud object\n",
    "text = df1['text'].values\n",
    "word_cloud=WordCloud(background_color='white',\n",
    "    stopwords=stopwords)\n",
    "word_cloud.generate(str(text))\n",
    "\n",
    "# show wordcloud\n",
    "plt.imshow(word_cloud, interpolation='bilinear')\n",
    "plt.axis('off')\n",
    "plt.show()"
   ]
  },
  {
   "cell_type": "code",
   "execution_count": 42,
   "metadata": {},
   "outputs": [],
   "source": [
    "# remove more words\n",
    "# some words are so frequent that they hardly contribute to our project\n",
    "stopwords = nltk.corpus.stopwords.words('english')\n",
    "newStopWords = ['like','im', 'would', 'ordered', 'bought', 'look', 'one','also', 'got', 'x', 'think', 'dress']\n",
    "stopwords.extend(newStopWords)"
   ]
  },
  {
   "cell_type": "code",
   "execution_count": 43,
   "metadata": {
    "scrolled": true
   },
   "outputs": [
    {
     "data": {
      "text/plain": [
       "0          absolutely wonderful silky sexy comfortable\n",
       "1    love sooo pretty happened find store glad bc n...\n",
       "2    high hope really wanted work initially petite ...\n",
       "3    love love love jumpsuit fun flirty fabulous ev...\n",
       "4    shirt flattering due adjustable front tie perf...\n",
       "Name: text_new, dtype: object"
      ]
     },
     "execution_count": 43,
     "metadata": {},
     "output_type": "execute_result"
    }
   ],
   "source": [
    "df1['text_new']=df1['lem'].apply(lambda x:\" \".join(x for x in x.split() if x not in stopwords))\n",
    "df1['text_new'].head()"
   ]
  },
  {
   "cell_type": "code",
   "execution_count": 44,
   "metadata": {},
   "outputs": [
    {
     "data": {
      "image/png": "[encoded data removed]",
      "text/plain": [
       "<Figure size 432x288 with 1 Axes>"
      ]
     },
     "metadata": {
      "needs_background": "light"
     },
     "output_type": "display_data"
    }
   ],
   "source": [
    "# a new wordcloud\n",
    "# initate a wordcloud object\n",
    "text_new = df1['text'].values\n",
    "word_cloud1=WordCloud(background_color='white',\n",
    "    stopwords=stopwords)\n",
    "word_cloud1.generate(str(text_new))\n",
    "\n",
    "# show wordcloud\n",
    "plt.imshow(word_cloud1, interpolation='bilinear')\n",
    "plt.axis('off')\n",
    "plt.show()"
   ]
  },
  {
   "cell_type": "markdown",
   "metadata": {},
   "source": [
    "## Machine Learning-Classfication"
   ]
  },
  {
   "cell_type": "markdown",
   "metadata": {},
   "source": [
    "Objective: to predict the intention of recommendation (the \"Recommended IND\" (0 or 1) in the dataset)\n",
    "\n",
    "Methods:\n",
    "1. Random Forest\n",
    "2. SVM\n",
    "3. Logistic Regression\n",
    "4. KNN"
   ]
  },
  {
   "cell_type": "code",
   "execution_count": 45,
   "metadata": {
    "scrolled": true
   },
   "outputs": [],
   "source": [
    "# dummy variable for department name\n",
    "department_dummy=pd.get_dummies(df1['Department Name'],prefix='department')\n",
    "df1=pd.concat([df1, department_dummy], axis=1)"
   ]
  },
  {
   "cell_type": "code",
   "execution_count": 46,
   "metadata": {},
   "outputs": [
    {
     "data": {
      "text/html": [
       "<div>\n",
       "<style scoped>\n",
       "    .dataframe tbody tr th:only-of-type {\n",
       "        vertical-align: middle;\n",
       "    }\n",
       "\n",
       "    .dataframe tbody tr th {\n",
       "        vertical-align: top;\n",
       "    }\n",
       "\n",
       "    .dataframe thead th {\n",
       "        text-align: right;\n",
       "    }\n",
       "</style>\n",
       "<table border=\"1\" class=\"dataframe\">\n",
       "  <thead>\n",
       "    <tr style=\"text-align: right;\">\n",
       "      <th></th>\n",
       "      <th>Age</th>\n",
       "      <th>Rating</th>\n",
       "      <th>Recommended IND</th>\n",
       "      <th>Positive Feedback Count</th>\n",
       "      <th>word_count</th>\n",
       "      <th>char_count</th>\n",
       "      <th>avg_word</th>\n",
       "      <th>stopwords</th>\n",
       "      <th>numerics</th>\n",
       "      <th>upper</th>\n",
       "      <th>...</th>\n",
       "      <th>Polarity Score</th>\n",
       "      <th>Neutral Score</th>\n",
       "      <th>Negative Score</th>\n",
       "      <th>Positive Score</th>\n",
       "      <th>department_Bottoms</th>\n",
       "      <th>department_Dresses</th>\n",
       "      <th>department_Intimate</th>\n",
       "      <th>department_Jackets</th>\n",
       "      <th>department_Tops</th>\n",
       "      <th>department_Trend</th>\n",
       "    </tr>\n",
       "  </thead>\n",
       "  <tbody>\n",
       "    <tr>\n",
       "      <th>Age</th>\n",
       "      <td>1.000000</td>\n",
       "      <td>0.026967</td>\n",
       "      <td>0.030712</td>\n",
       "      <td>0.043049</td>\n",
       "      <td>0.024217</td>\n",
       "      <td>0.026493</td>\n",
       "      <td>0.033085</td>\n",
       "      <td>0.017470</td>\n",
       "      <td>0.004070</td>\n",
       "      <td>-0.022694</td>\n",
       "      <td>...</td>\n",
       "      <td>0.016427</td>\n",
       "      <td>-0.005461</td>\n",
       "      <td>-0.013998</td>\n",
       "      <td>0.010774</td>\n",
       "      <td>-0.003848</td>\n",
       "      <td>-0.053665</td>\n",
       "      <td>-0.043826</td>\n",
       "      <td>0.013332</td>\n",
       "      <td>0.067594</td>\n",
       "      <td>0.004988</td>\n",
       "    </tr>\n",
       "    <tr>\n",
       "      <th>Rating</th>\n",
       "      <td>0.026967</td>\n",
       "      <td>1.000000</td>\n",
       "      <td>0.792311</td>\n",
       "      <td>-0.064820</td>\n",
       "      <td>-0.073691</td>\n",
       "      <td>-0.072843</td>\n",
       "      <td>0.015851</td>\n",
       "      <td>-0.087800</td>\n",
       "      <td>0.011615</td>\n",
       "      <td>-0.043062</td>\n",
       "      <td>...</td>\n",
       "      <td>0.317577</td>\n",
       "      <td>-0.177115</td>\n",
       "      <td>-0.335340</td>\n",
       "      <td>0.303233</td>\n",
       "      <td>0.036895</td>\n",
       "      <td>-0.024459</td>\n",
       "      <td>0.021520</td>\n",
       "      <td>0.013325</td>\n",
       "      <td>-0.018841</td>\n",
       "      <td>-0.024462</td>\n",
       "    </tr>\n",
       "    <tr>\n",
       "      <th>Recommended IND</th>\n",
       "      <td>0.030712</td>\n",
       "      <td>0.792311</td>\n",
       "      <td>1.000000</td>\n",
       "      <td>-0.068954</td>\n",
       "      <td>-0.044572</td>\n",
       "      <td>-0.046387</td>\n",
       "      <td>-0.006198</td>\n",
       "      <td>-0.056474</td>\n",
       "      <td>0.024739</td>\n",
       "      <td>-0.052608</td>\n",
       "      <td>...</td>\n",
       "      <td>0.288061</td>\n",
       "      <td>-0.132454</td>\n",
       "      <td>-0.312005</td>\n",
       "      <td>0.251060</td>\n",
       "      <td>0.033358</td>\n",
       "      <td>-0.022320</td>\n",
       "      <td>0.020609</td>\n",
       "      <td>0.007844</td>\n",
       "      <td>-0.016676</td>\n",
       "      <td>-0.015453</td>\n",
       "    </tr>\n",
       "    <tr>\n",
       "      <th>Positive Feedback Count</th>\n",
       "      <td>0.043049</td>\n",
       "      <td>-0.064820</td>\n",
       "      <td>-0.068954</td>\n",
       "      <td>1.000000</td>\n",
       "      <td>0.202720</td>\n",
       "      <td>0.208661</td>\n",
       "      <td>0.017806</td>\n",
       "      <td>0.194297</td>\n",
       "      <td>0.049883</td>\n",
       "      <td>0.028909</td>\n",
       "      <td>...</td>\n",
       "      <td>0.028504</td>\n",
       "      <td>0.063914</td>\n",
       "      <td>0.033118</td>\n",
       "      <td>-0.074542</td>\n",
       "      <td>-0.032361</td>\n",
       "      <td>0.058568</td>\n",
       "      <td>-0.032175</td>\n",
       "      <td>0.010845</td>\n",
       "      <td>-0.017310</td>\n",
       "      <td>0.010421</td>\n",
       "    </tr>\n",
       "    <tr>\n",
       "      <th>word_count</th>\n",
       "      <td>0.024217</td>\n",
       "      <td>-0.073691</td>\n",
       "      <td>-0.044572</td>\n",
       "      <td>0.202720</td>\n",
       "      <td>1.000000</td>\n",
       "      <td>0.992147</td>\n",
       "      <td>-0.059360</td>\n",
       "      <td>0.979157</td>\n",
       "      <td>0.274213</td>\n",
       "      <td>0.254666</td>\n",
       "      <td>...</td>\n",
       "      <td>0.296620</td>\n",
       "      <td>0.181249</td>\n",
       "      <td>0.139057</td>\n",
       "      <td>-0.229315</td>\n",
       "      <td>0.009832</td>\n",
       "      <td>0.098474</td>\n",
       "      <td>-0.051706</td>\n",
       "      <td>0.034525</td>\n",
       "      <td>-0.085754</td>\n",
       "      <td>0.025010</td>\n",
       "    </tr>\n",
       "    <tr>\n",
       "      <th>char_count</th>\n",
       "      <td>0.026493</td>\n",
       "      <td>-0.072843</td>\n",
       "      <td>-0.046387</td>\n",
       "      <td>0.208661</td>\n",
       "      <td>0.992147</td>\n",
       "      <td>1.000000</td>\n",
       "      <td>0.025531</td>\n",
       "      <td>0.960152</td>\n",
       "      <td>0.252033</td>\n",
       "      <td>0.238916</td>\n",
       "      <td>...</td>\n",
       "      <td>0.299475</td>\n",
       "      <td>0.174777</td>\n",
       "      <td>0.143982</td>\n",
       "      <td>-0.225052</td>\n",
       "      <td>0.013609</td>\n",
       "      <td>0.098173</td>\n",
       "      <td>-0.048380</td>\n",
       "      <td>0.036115</td>\n",
       "      <td>-0.090740</td>\n",
       "      <td>0.025359</td>\n",
       "    </tr>\n",
       "    <tr>\n",
       "      <th>avg_word</th>\n",
       "      <td>0.033085</td>\n",
       "      <td>0.015851</td>\n",
       "      <td>-0.006198</td>\n",
       "      <td>0.017806</td>\n",
       "      <td>-0.059360</td>\n",
       "      <td>0.025531</td>\n",
       "      <td>1.000000</td>\n",
       "      <td>-0.129898</td>\n",
       "      <td>-0.126038</td>\n",
       "      <td>-0.092126</td>\n",
       "      <td>...</td>\n",
       "      <td>0.194713</td>\n",
       "      <td>-0.381402</td>\n",
       "      <td>0.065303</td>\n",
       "      <td>0.340495</td>\n",
       "      <td>0.017332</td>\n",
       "      <td>0.004864</td>\n",
       "      <td>0.028356</td>\n",
       "      <td>0.003335</td>\n",
       "      <td>-0.033924</td>\n",
       "      <td>0.003083</td>\n",
       "    </tr>\n",
       "    <tr>\n",
       "      <th>stopwords</th>\n",
       "      <td>0.017470</td>\n",
       "      <td>-0.087800</td>\n",
       "      <td>-0.056474</td>\n",
       "      <td>0.194297</td>\n",
       "      <td>0.979157</td>\n",
       "      <td>0.960152</td>\n",
       "      <td>-0.129898</td>\n",
       "      <td>1.000000</td>\n",
       "      <td>0.241426</td>\n",
       "      <td>0.265426</td>\n",
       "      <td>...</td>\n",
       "      <td>0.266547</td>\n",
       "      <td>0.181091</td>\n",
       "      <td>0.148329</td>\n",
       "      <td>-0.232842</td>\n",
       "      <td>0.004111</td>\n",
       "      <td>0.097370</td>\n",
       "      <td>-0.051919</td>\n",
       "      <td>0.032033</td>\n",
       "      <td>-0.079326</td>\n",
       "      <td>0.024560</td>\n",
       "    </tr>\n",
       "    <tr>\n",
       "      <th>numerics</th>\n",
       "      <td>0.004070</td>\n",
       "      <td>0.011615</td>\n",
       "      <td>0.024739</td>\n",
       "      <td>0.049883</td>\n",
       "      <td>0.274213</td>\n",
       "      <td>0.252033</td>\n",
       "      <td>-0.126038</td>\n",
       "      <td>0.241426</td>\n",
       "      <td>1.000000</td>\n",
       "      <td>0.061300</td>\n",
       "      <td>...</td>\n",
       "      <td>0.077515</td>\n",
       "      <td>0.102922</td>\n",
       "      <td>-0.014108</td>\n",
       "      <td>-0.093272</td>\n",
       "      <td>0.118955</td>\n",
       "      <td>0.077640</td>\n",
       "      <td>-0.039215</td>\n",
       "      <td>-0.008673</td>\n",
       "      <td>-0.134809</td>\n",
       "      <td>0.011241</td>\n",
       "    </tr>\n",
       "    <tr>\n",
       "      <th>upper</th>\n",
       "      <td>-0.022694</td>\n",
       "      <td>-0.043062</td>\n",
       "      <td>-0.052608</td>\n",
       "      <td>0.028909</td>\n",
       "      <td>0.254666</td>\n",
       "      <td>0.238916</td>\n",
       "      <td>-0.092126</td>\n",
       "      <td>0.265426</td>\n",
       "      <td>0.061300</td>\n",
       "      <td>1.000000</td>\n",
       "      <td>...</td>\n",
       "      <td>0.082185</td>\n",
       "      <td>0.009190</td>\n",
       "      <td>0.062687</td>\n",
       "      <td>-0.033732</td>\n",
       "      <td>-0.014930</td>\n",
       "      <td>0.016288</td>\n",
       "      <td>-0.019234</td>\n",
       "      <td>0.001649</td>\n",
       "      <td>0.006127</td>\n",
       "      <td>-0.001081</td>\n",
       "    </tr>\n",
       "    <tr>\n",
       "      <th>polarity</th>\n",
       "      <td>0.014418</td>\n",
       "      <td>0.325698</td>\n",
       "      <td>0.270464</td>\n",
       "      <td>-0.058948</td>\n",
       "      <td>-0.156028</td>\n",
       "      <td>-0.151427</td>\n",
       "      <td>0.238335</td>\n",
       "      <td>-0.157788</td>\n",
       "      <td>-0.040119</td>\n",
       "      <td>-0.048886</td>\n",
       "      <td>...</td>\n",
       "      <td>0.491260</td>\n",
       "      <td>-0.556610</td>\n",
       "      <td>-0.286740</td>\n",
       "      <td>0.648555</td>\n",
       "      <td>0.008413</td>\n",
       "      <td>0.015413</td>\n",
       "      <td>-0.005307</td>\n",
       "      <td>-0.013353</td>\n",
       "      <td>-0.009656</td>\n",
       "      <td>-0.014210</td>\n",
       "    </tr>\n",
       "    <tr>\n",
       "      <th>subjectivity</th>\n",
       "      <td>0.014997</td>\n",
       "      <td>0.076196</td>\n",
       "      <td>0.061362</td>\n",
       "      <td>0.002699</td>\n",
       "      <td>0.054820</td>\n",
       "      <td>0.068515</td>\n",
       "      <td>0.442672</td>\n",
       "      <td>0.047954</td>\n",
       "      <td>-0.025438</td>\n",
       "      <td>0.009574</td>\n",
       "      <td>...</td>\n",
       "      <td>0.404942</td>\n",
       "      <td>-0.604272</td>\n",
       "      <td>0.061711</td>\n",
       "      <td>0.556018</td>\n",
       "      <td>-0.007532</td>\n",
       "      <td>0.048253</td>\n",
       "      <td>0.005055</td>\n",
       "      <td>-0.005823</td>\n",
       "      <td>-0.038454</td>\n",
       "      <td>0.005025</td>\n",
       "    </tr>\n",
       "    <tr>\n",
       "      <th>Polarity Score</th>\n",
       "      <td>0.016427</td>\n",
       "      <td>0.317577</td>\n",
       "      <td>0.288061</td>\n",
       "      <td>0.028504</td>\n",
       "      <td>0.296620</td>\n",
       "      <td>0.299475</td>\n",
       "      <td>0.194713</td>\n",
       "      <td>0.266547</td>\n",
       "      <td>0.077515</td>\n",
       "      <td>0.082185</td>\n",
       "      <td>...</td>\n",
       "      <td>1.000000</td>\n",
       "      <td>-0.484450</td>\n",
       "      <td>-0.466352</td>\n",
       "      <td>0.650512</td>\n",
       "      <td>0.007471</td>\n",
       "      <td>0.017857</td>\n",
       "      <td>-0.018670</td>\n",
       "      <td>0.009310</td>\n",
       "      <td>-0.013636</td>\n",
       "      <td>-0.012926</td>\n",
       "    </tr>\n",
       "    <tr>\n",
       "      <th>Neutral Score</th>\n",
       "      <td>-0.005461</td>\n",
       "      <td>-0.177115</td>\n",
       "      <td>-0.132454</td>\n",
       "      <td>0.063914</td>\n",
       "      <td>0.181249</td>\n",
       "      <td>0.174777</td>\n",
       "      <td>-0.381402</td>\n",
       "      <td>0.181091</td>\n",
       "      <td>0.102922</td>\n",
       "      <td>0.009190</td>\n",
       "      <td>...</td>\n",
       "      <td>-0.484450</td>\n",
       "      <td>1.000000</td>\n",
       "      <td>-0.105538</td>\n",
       "      <td>-0.918813</td>\n",
       "      <td>0.006809</td>\n",
       "      <td>0.037886</td>\n",
       "      <td>0.002112</td>\n",
       "      <td>0.037322</td>\n",
       "      <td>-0.057411</td>\n",
       "      <td>0.014377</td>\n",
       "    </tr>\n",
       "    <tr>\n",
       "      <th>Negative Score</th>\n",
       "      <td>-0.013998</td>\n",
       "      <td>-0.335340</td>\n",
       "      <td>-0.312005</td>\n",
       "      <td>0.033118</td>\n",
       "      <td>0.139057</td>\n",
       "      <td>0.143982</td>\n",
       "      <td>0.065303</td>\n",
       "      <td>0.148329</td>\n",
       "      <td>-0.014108</td>\n",
       "      <td>0.062687</td>\n",
       "      <td>...</td>\n",
       "      <td>-0.466352</td>\n",
       "      <td>-0.105538</td>\n",
       "      <td>1.000000</td>\n",
       "      <td>-0.295513</td>\n",
       "      <td>-0.009498</td>\n",
       "      <td>0.029906</td>\n",
       "      <td>-0.020524</td>\n",
       "      <td>-0.018377</td>\n",
       "      <td>-0.003614</td>\n",
       "      <td>0.016437</td>\n",
       "    </tr>\n",
       "    <tr>\n",
       "      <th>Positive Score</th>\n",
       "      <td>0.010774</td>\n",
       "      <td>0.303233</td>\n",
       "      <td>0.251060</td>\n",
       "      <td>-0.074542</td>\n",
       "      <td>-0.229315</td>\n",
       "      <td>-0.225052</td>\n",
       "      <td>0.340495</td>\n",
       "      <td>-0.232842</td>\n",
       "      <td>-0.093272</td>\n",
       "      <td>-0.033732</td>\n",
       "      <td>...</td>\n",
       "      <td>0.650512</td>\n",
       "      <td>-0.918813</td>\n",
       "      <td>-0.295513</td>\n",
       "      <td>1.000000</td>\n",
       "      <td>-0.002765</td>\n",
       "      <td>-0.048284</td>\n",
       "      <td>0.006145</td>\n",
       "      <td>-0.028569</td>\n",
       "      <td>0.056592</td>\n",
       "      <td>-0.020365</td>\n",
       "    </tr>\n",
       "    <tr>\n",
       "      <th>department_Bottoms</th>\n",
       "      <td>-0.003848</td>\n",
       "      <td>0.036895</td>\n",
       "      <td>0.033358</td>\n",
       "      <td>-0.032361</td>\n",
       "      <td>0.009832</td>\n",
       "      <td>0.013609</td>\n",
       "      <td>0.017332</td>\n",
       "      <td>0.004111</td>\n",
       "      <td>0.118955</td>\n",
       "      <td>-0.014930</td>\n",
       "      <td>...</td>\n",
       "      <td>0.007471</td>\n",
       "      <td>0.006809</td>\n",
       "      <td>-0.009498</td>\n",
       "      <td>-0.002765</td>\n",
       "      <td>1.000000</td>\n",
       "      <td>-0.266719</td>\n",
       "      <td>-0.124151</td>\n",
       "      <td>-0.094238</td>\n",
       "      <td>-0.394269</td>\n",
       "      <td>-0.031369</td>\n",
       "    </tr>\n",
       "    <tr>\n",
       "      <th>department_Dresses</th>\n",
       "      <td>-0.053665</td>\n",
       "      <td>-0.024459</td>\n",
       "      <td>-0.022320</td>\n",
       "      <td>0.058568</td>\n",
       "      <td>0.098474</td>\n",
       "      <td>0.098173</td>\n",
       "      <td>0.004864</td>\n",
       "      <td>0.097370</td>\n",
       "      <td>0.077640</td>\n",
       "      <td>0.016288</td>\n",
       "      <td>...</td>\n",
       "      <td>0.017857</td>\n",
       "      <td>0.037886</td>\n",
       "      <td>0.029906</td>\n",
       "      <td>-0.048284</td>\n",
       "      <td>-0.266719</td>\n",
       "      <td>1.000000</td>\n",
       "      <td>-0.171476</td>\n",
       "      <td>-0.130162</td>\n",
       "      <td>-0.544562</td>\n",
       "      <td>-0.043327</td>\n",
       "    </tr>\n",
       "    <tr>\n",
       "      <th>department_Intimate</th>\n",
       "      <td>-0.043826</td>\n",
       "      <td>0.021520</td>\n",
       "      <td>0.020609</td>\n",
       "      <td>-0.032175</td>\n",
       "      <td>-0.051706</td>\n",
       "      <td>-0.048380</td>\n",
       "      <td>0.028356</td>\n",
       "      <td>-0.051919</td>\n",
       "      <td>-0.039215</td>\n",
       "      <td>-0.019234</td>\n",
       "      <td>...</td>\n",
       "      <td>-0.018670</td>\n",
       "      <td>0.002112</td>\n",
       "      <td>-0.020524</td>\n",
       "      <td>0.006145</td>\n",
       "      <td>-0.124151</td>\n",
       "      <td>-0.171476</td>\n",
       "      <td>1.000000</td>\n",
       "      <td>-0.060587</td>\n",
       "      <td>-0.253480</td>\n",
       "      <td>-0.020168</td>\n",
       "    </tr>\n",
       "    <tr>\n",
       "      <th>department_Jackets</th>\n",
       "      <td>0.013332</td>\n",
       "      <td>0.013325</td>\n",
       "      <td>0.007844</td>\n",
       "      <td>0.010845</td>\n",
       "      <td>0.034525</td>\n",
       "      <td>0.036115</td>\n",
       "      <td>0.003335</td>\n",
       "      <td>0.032033</td>\n",
       "      <td>-0.008673</td>\n",
       "      <td>0.001649</td>\n",
       "      <td>...</td>\n",
       "      <td>0.009310</td>\n",
       "      <td>0.037322</td>\n",
       "      <td>-0.018377</td>\n",
       "      <td>-0.028569</td>\n",
       "      <td>-0.094238</td>\n",
       "      <td>-0.130162</td>\n",
       "      <td>-0.060587</td>\n",
       "      <td>1.000000</td>\n",
       "      <td>-0.192407</td>\n",
       "      <td>-0.015308</td>\n",
       "    </tr>\n",
       "    <tr>\n",
       "      <th>department_Tops</th>\n",
       "      <td>0.067594</td>\n",
       "      <td>-0.018841</td>\n",
       "      <td>-0.016676</td>\n",
       "      <td>-0.017310</td>\n",
       "      <td>-0.085754</td>\n",
       "      <td>-0.090740</td>\n",
       "      <td>-0.033924</td>\n",
       "      <td>-0.079326</td>\n",
       "      <td>-0.134809</td>\n",
       "      <td>0.006127</td>\n",
       "      <td>...</td>\n",
       "      <td>-0.013636</td>\n",
       "      <td>-0.057411</td>\n",
       "      <td>-0.003614</td>\n",
       "      <td>0.056592</td>\n",
       "      <td>-0.394269</td>\n",
       "      <td>-0.544562</td>\n",
       "      <td>-0.253480</td>\n",
       "      <td>-0.192407</td>\n",
       "      <td>1.000000</td>\n",
       "      <td>-0.064047</td>\n",
       "    </tr>\n",
       "    <tr>\n",
       "      <th>department_Trend</th>\n",
       "      <td>0.004988</td>\n",
       "      <td>-0.024462</td>\n",
       "      <td>-0.015453</td>\n",
       "      <td>0.010421</td>\n",
       "      <td>0.025010</td>\n",
       "      <td>0.025359</td>\n",
       "      <td>0.003083</td>\n",
       "      <td>0.024560</td>\n",
       "      <td>0.011241</td>\n",
       "      <td>-0.001081</td>\n",
       "      <td>...</td>\n",
       "      <td>-0.012926</td>\n",
       "      <td>0.014377</td>\n",
       "      <td>0.016437</td>\n",
       "      <td>-0.020365</td>\n",
       "      <td>-0.031369</td>\n",
       "      <td>-0.043327</td>\n",
       "      <td>-0.020168</td>\n",
       "      <td>-0.015308</td>\n",
       "      <td>-0.064047</td>\n",
       "      <td>1.000000</td>\n",
       "    </tr>\n",
       "  </tbody>\n",
       "</table>\n",
       "<p>22 rows × 22 columns</p>\n",
       "</div>"
      ],
      "text/plain": [
       "                              Age    Rating  Recommended IND  \\\n",
       "Age                      1.000000  0.026967         0.030712   \n",
       "Rating                   0.026967  1.000000         0.792311   \n",
       "Recommended IND          0.030712  0.792311         1.000000   \n",
       "Positive Feedback Count  0.043049 -0.064820        -0.068954   \n",
       "word_count               0.024217 -0.073691        -0.044572   \n",
       "char_count               0.026493 -0.072843        -0.046387   \n",
       "avg_word                 0.033085  0.015851        -0.006198   \n",
       "stopwords                0.017470 -0.087800        -0.056474   \n",
       "numerics                 0.004070  0.011615         0.024739   \n",
       "upper                   -0.022694 -0.043062        -0.052608   \n",
       "polarity                 0.014418  0.325698         0.270464   \n",
       "subjectivity             0.014997  0.076196         0.061362   \n",
       "Polarity Score           0.016427  0.317577         0.288061   \n",
       "Neutral Score           -0.005461 -0.177115        -0.132454   \n",
       "Negative Score          -0.013998 -0.335340        -0.312005   \n",
       "Positive Score           0.010774  0.303233         0.251060   \n",
       "department_Bottoms      -0.003848  0.036895         0.033358   \n",
       "department_Dresses      -0.053665 -0.024459        -0.022320   \n",
       "department_Intimate     -0.043826  0.021520         0.020609   \n",
       "department_Jackets       0.013332  0.013325         0.007844   \n",
       "department_Tops          0.067594 -0.018841        -0.016676   \n",
       "department_Trend         0.004988 -0.024462        -0.015453   \n",
       "\n",
       "                         Positive Feedback Count  word_count  char_count  \\\n",
       "Age                                     0.043049    0.024217    0.026493   \n",
       "Rating                                 -0.064820   -0.073691   -0.072843   \n",
       "Recommended IND                        -0.068954   -0.044572   -0.046387   \n",
       "Positive Feedback Count                 1.000000    0.202720    0.208661   \n",
       "word_count                              0.202720    1.000000    0.992147   \n",
       "char_count                              0.208661    0.992147    1.000000   \n",
       "avg_word                                0.017806   -0.059360    0.025531   \n",
       "stopwords                               0.194297    0.979157    0.960152   \n",
       "numerics                                0.049883    0.274213    0.252033   \n",
       "upper                                   0.028909    0.254666    0.238916   \n",
       "polarity                               -0.058948   -0.156028   -0.151427   \n",
       "subjectivity                            0.002699    0.054820    0.068515   \n",
       "Polarity Score                          0.028504    0.296620    0.299475   \n",
       "Neutral Score                           0.063914    0.181249    0.174777   \n",
       "Negative Score                          0.033118    0.139057    0.143982   \n",
       "Positive Score                         -0.074542   -0.229315   -0.225052   \n",
       "department_Bottoms                     -0.032361    0.009832    0.013609   \n",
       "department_Dresses                      0.058568    0.098474    0.098173   \n",
       "department_Intimate                    -0.032175   -0.051706   -0.048380   \n",
       "department_Jackets                      0.010845    0.034525    0.036115   \n",
       "department_Tops                        -0.017310   -0.085754   -0.090740   \n",
       "department_Trend                        0.010421    0.025010    0.025359   \n",
       "\n",
       "                         avg_word  stopwords  numerics     upper  ...  \\\n",
       "Age                      0.033085   0.017470  0.004070 -0.022694  ...   \n",
       "Rating                   0.015851  -0.087800  0.011615 -0.043062  ...   \n",
       "Recommended IND         -0.006198  -0.056474  0.024739 -0.052608  ...   \n",
       "Positive Feedback Count  0.017806   0.194297  0.049883  0.028909  ...   \n",
       "word_count              -0.059360   0.979157  0.274213  0.254666  ...   \n",
       "char_count               0.025531   0.960152  0.252033  0.238916  ...   \n",
       "avg_word                 1.000000  -0.129898 -0.126038 -0.092126  ...   \n",
       "stopwords               -0.129898   1.000000  0.241426  0.265426  ...   \n",
       "numerics                -0.126038   0.241426  1.000000  0.061300  ...   \n",
       "upper                   -0.092126   0.265426  0.061300  1.000000  ...   \n",
       "polarity                 0.238335  -0.157788 -0.040119 -0.048886  ...   \n",
       "subjectivity             0.442672   0.047954 -0.025438  0.009574  ...   \n",
       "Polarity Score           0.194713   0.266547  0.077515  0.082185  ...   \n",
       "Neutral Score           -0.381402   0.181091  0.102922  0.009190  ...   \n",
       "Negative Score           0.065303   0.148329 -0.014108  0.062687  ...   \n",
       "Positive Score           0.340495  -0.232842 -0.093272 -0.033732  ...   \n",
       "department_Bottoms       0.017332   0.004111  0.118955 -0.014930  ...   \n",
       "department_Dresses       0.004864   0.097370  0.077640  0.016288  ...   \n",
       "department_Intimate      0.028356  -0.051919 -0.039215 -0.019234  ...   \n",
       "department_Jackets       0.003335   0.032033 -0.008673  0.001649  ...   \n",
       "department_Tops         -0.033924  -0.079326 -0.134809  0.006127  ...   \n",
       "department_Trend         0.003083   0.024560  0.011241 -0.001081  ...   \n",
       "\n",
       "                         Polarity Score  Neutral Score  Negative Score  \\\n",
       "Age                            0.016427      -0.005461       -0.013998   \n",
       "Rating                         0.317577      -0.177115       -0.335340   \n",
       "Recommended IND                0.288061      -0.132454       -0.312005   \n",
       "Positive Feedback Count        0.028504       0.063914        0.033118   \n",
       "word_count                     0.296620       0.181249        0.139057   \n",
       "char_count                     0.299475       0.174777        0.143982   \n",
       "avg_word                       0.194713      -0.381402        0.065303   \n",
       "stopwords                      0.266547       0.181091        0.148329   \n",
       "numerics                       0.077515       0.102922       -0.014108   \n",
       "upper                          0.082185       0.009190        0.062687   \n",
       "polarity                       0.491260      -0.556610       -0.286740   \n",
       "subjectivity                   0.404942      -0.604272        0.061711   \n",
       "Polarity Score                 1.000000      -0.484450       -0.466352   \n",
       "Neutral Score                 -0.484450       1.000000       -0.105538   \n",
       "Negative Score                -0.466352      -0.105538        1.000000   \n",
       "Positive Score                 0.650512      -0.918813       -0.295513   \n",
       "department_Bottoms             0.007471       0.006809       -0.009498   \n",
       "department_Dresses             0.017857       0.037886        0.029906   \n",
       "department_Intimate           -0.018670       0.002112       -0.020524   \n",
       "department_Jackets             0.009310       0.037322       -0.018377   \n",
       "department_Tops               -0.013636      -0.057411       -0.003614   \n",
       "department_Trend              -0.012926       0.014377        0.016437   \n",
       "\n",
       "                         Positive Score  department_Bottoms  \\\n",
       "Age                            0.010774           -0.003848   \n",
       "Rating                         0.303233            0.036895   \n",
       "Recommended IND                0.251060            0.033358   \n",
       "Positive Feedback Count       -0.074542           -0.032361   \n",
       "word_count                    -0.229315            0.009832   \n",
       "char_count                    -0.225052            0.013609   \n",
       "avg_word                       0.340495            0.017332   \n",
       "stopwords                     -0.232842            0.004111   \n",
       "numerics                      -0.093272            0.118955   \n",
       "upper                         -0.033732           -0.014930   \n",
       "polarity                       0.648555            0.008413   \n",
       "subjectivity                   0.556018           -0.007532   \n",
       "Polarity Score                 0.650512            0.007471   \n",
       "Neutral Score                 -0.918813            0.006809   \n",
       "Negative Score                -0.295513           -0.009498   \n",
       "Positive Score                 1.000000           -0.002765   \n",
       "department_Bottoms            -0.002765            1.000000   \n",
       "department_Dresses            -0.048284           -0.266719   \n",
       "department_Intimate            0.006145           -0.124151   \n",
       "department_Jackets            -0.028569           -0.094238   \n",
       "department_Tops                0.056592           -0.394269   \n",
       "department_Trend              -0.020365           -0.031369   \n",
       "\n",
       "                         department_Dresses  department_Intimate  \\\n",
       "Age                               -0.053665            -0.043826   \n",
       "Rating                            -0.024459             0.021520   \n",
       "Recommended IND                   -0.022320             0.020609   \n",
       "Positive Feedback Count            0.058568            -0.032175   \n",
       "word_count                         0.098474            -0.051706   \n",
       "char_count                         0.098173            -0.048380   \n",
       "avg_word                           0.004864             0.028356   \n",
       "stopwords                          0.097370            -0.051919   \n",
       "numerics                           0.077640            -0.039215   \n",
       "upper                              0.016288            -0.019234   \n",
       "polarity                           0.015413            -0.005307   \n",
       "subjectivity                       0.048253             0.005055   \n",
       "Polarity Score                     0.017857            -0.018670   \n",
       "Neutral Score                      0.037886             0.002112   \n",
       "Negative Score                     0.029906            -0.020524   \n",
       "Positive Score                    -0.048284             0.006145   \n",
       "department_Bottoms                -0.266719            -0.124151   \n",
       "department_Dresses                 1.000000            -0.171476   \n",
       "department_Intimate               -0.171476             1.000000   \n",
       "department_Jackets                -0.130162            -0.060587   \n",
       "department_Tops                   -0.544562            -0.253480   \n",
       "department_Trend                  -0.043327            -0.020168   \n",
       "\n",
       "                         department_Jackets  department_Tops  department_Trend  \n",
       "Age                                0.013332         0.067594          0.004988  \n",
       "Rating                             0.013325        -0.018841         -0.024462  \n",
       "Recommended IND                    0.007844        -0.016676         -0.015453  \n",
       "Positive Feedback Count            0.010845        -0.017310          0.010421  \n",
       "word_count                         0.034525        -0.085754          0.025010  \n",
       "char_count                         0.036115        -0.090740          0.025359  \n",
       "avg_word                           0.003335        -0.033924          0.003083  \n",
       "stopwords                          0.032033        -0.079326          0.024560  \n",
       "numerics                          -0.008673        -0.134809          0.011241  \n",
       "upper                              0.001649         0.006127         -0.001081  \n",
       "polarity                          -0.013353        -0.009656         -0.014210  \n",
       "subjectivity                      -0.005823        -0.038454          0.005025  \n",
       "Polarity Score                     0.009310        -0.013636         -0.012926  \n",
       "Neutral Score                      0.037322        -0.057411          0.014377  \n",
       "Negative Score                    -0.018377        -0.003614          0.016437  \n",
       "Positive Score                    -0.028569         0.056592         -0.020365  \n",
       "department_Bottoms                -0.094238        -0.394269         -0.031369  \n",
       "department_Dresses                -0.130162        -0.544562         -0.043327  \n",
       "department_Intimate               -0.060587        -0.253480         -0.020168  \n",
       "department_Jackets                 1.000000        -0.192407         -0.015308  \n",
       "department_Tops                   -0.192407         1.000000         -0.064047  \n",
       "department_Trend                  -0.015308        -0.064047          1.000000  \n",
       "\n",
       "[22 rows x 22 columns]"
      ]
     },
     "execution_count": 46,
     "metadata": {},
     "output_type": "execute_result"
    }
   ],
   "source": [
    "# check correlation before modeling\n",
    "df1.corr()"
   ]
  },
  {
   "cell_type": "code",
   "execution_count": 47,
   "metadata": {},
   "outputs": [
    {
     "data": {
      "text/plain": [
       "<matplotlib.axes._subplots.AxesSubplot at 0x1c655dec080>"
      ]
     },
     "execution_count": 47,
     "metadata": {},
     "output_type": "execute_result"
    },
    {
     "data": {
      "image/png": "[encoded data removed]",
      "text/plain": [
       "<Figure size 842.4x595.44 with 2 Axes>"
      ]
     },
     "metadata": {
      "needs_background": "light"
     },
     "output_type": "display_data"
    }
   ],
   "source": [
    "# check correlation before modeling\n",
    "correlation=df1.corr()\n",
    "import seaborn as sns\n",
    "import matplotlib as plt\n",
    "from matplotlib import pyplot\n",
    "a4_dims = (11.7, 8.27)\n",
    "fig, ax = pyplot.subplots(figsize=a4_dims)\n",
    "sns.heatmap(ax=ax,data=correlation, vmax=.3, square=True, cmap=\"YlGnBu\")"
   ]
  },
  {
   "cell_type": "code",
   "execution_count": 48,
   "metadata": {
    "scrolled": false
   },
   "outputs": [
    {
     "data": {
      "text/plain": [
       "Clothing ID                 object\n",
       "Age                          int64\n",
       "Title                       object\n",
       "Review Text                 object\n",
       "Rating                       int64\n",
       "Recommended IND              int64\n",
       "Positive Feedback Count      int64\n",
       "Division Name               object\n",
       "Department Name             object\n",
       "Class Name                  object\n",
       "word_count                   int64\n",
       "char_count                   int64\n",
       "avg_word                   float64\n",
       "stopwords                    int64\n",
       "numerics                     int64\n",
       "upper                        int64\n",
       "text                        object\n",
       "polarity                   float64\n",
       "subjectivity               float64\n",
       "Polarity Score             float64\n",
       "Neutral Score              float64\n",
       "Negative Score             float64\n",
       "Positive Score             float64\n",
       "Sentiment                   object\n",
       "stem                        object\n",
       "lem                         object\n",
       "text_new                    object\n",
       "department_Bottoms           uint8\n",
       "department_Dresses           uint8\n",
       "department_Intimate          uint8\n",
       "department_Jackets           uint8\n",
       "department_Tops              uint8\n",
       "department_Trend             uint8\n",
       "dtype: object"
      ]
     },
     "execution_count": 48,
     "metadata": {},
     "output_type": "execute_result"
    }
   ],
   "source": [
    "df1.dtypes"
   ]
  },
  {
   "cell_type": "code",
   "execution_count": 49,
   "metadata": {},
   "outputs": [
    {
     "name": "stdout",
     "output_type": "stream",
     "text": [
      "number of test samples : 4695\n",
      "number of training samples: 18777\n"
     ]
    },
    {
     "name": "stderr",
     "output_type": "stream",
     "text": [
      "D:\\Anaconda3\\lib\\site-packages\\ipykernel_launcher.py:4: DataConversionWarning: Data with input dtype uint8, int64, float64 were all converted to float64 by the scale function.\n",
      "  after removing the cwd from sys.path.\n"
     ]
    }
   ],
   "source": [
    "# Random Forest\n",
    "from sklearn import preprocessing\n",
    "X=df1[['Age','Rating','Positive Feedback Count','word_count','Polarity Score','department_Bottoms','department_Dresses','department_Intimate','department_Jackets','department_Tops','department_Trend']]\n",
    "X_scaled=preprocessing.scale(X)\n",
    "X_scaled=pd.DataFrame(data=X_scaled,columns=X.columns)   #get the column names back\n",
    "y=df1['Recommended IND']\n",
    "from sklearn.model_selection import train_test_split\n",
    "X_train, X_test, y_train, y_test = train_test_split(X_scaled, y, test_size=0.2, random_state=1)\n",
    "# we can change the test_size\n",
    "print(\"number of test samples :\", X_test.shape[0])\n",
    "print(\"number of training samples:\",X_train.shape[0])"
   ]
  },
  {
   "cell_type": "code",
   "execution_count": 50,
   "metadata": {
    "scrolled": true
   },
   "outputs": [
    {
     "name": "stdout",
     "output_type": "stream",
     "text": [
      "Features sorted by their score:\n",
      "[(0.6518, 'Rating'), (0.1366, 'Polarity Score'), (0.0834, 'word_count'), (0.0732, 'Age'), (0.0361, 'Positive Feedback Count'), (0.0049, 'department_Tops'), (0.0046, 'department_Dresses'), (0.0039, 'department_Bottoms'), (0.0025, 'department_Intimate'), (0.0023, 'department_Jackets'), (0.0008, 'department_Trend')]\n"
     ]
    }
   ],
   "source": [
    "from sklearn.ensemble import RandomForestClassifier\n",
    "rf = RandomForestClassifier(n_estimators = 2000, random_state = 20)\n",
    "rf.fit(X_train, y_train)\n",
    "print (\"Features sorted by their score:\")\n",
    "print (sorted(zip(map(lambda x: round(x, 4), rf.feature_importances_), X_train.columns), \n",
    "             reverse=True))"
   ]
  },
  {
   "cell_type": "markdown",
   "metadata": {},
   "source": [
    "Rating is the most important indicator, followed by Polarity Score. Features of the review and customers's age are surprisingly less important."
   ]
  },
  {
   "cell_type": "code",
   "execution_count": 51,
   "metadata": {},
   "outputs": [
    {
     "name": "stdout",
     "output_type": "stream",
     "text": [
      "Test Accuracy  :  0.9286474973375932\n",
      "[[ 714  138]\n",
      " [ 197 3646]]\n"
     ]
    }
   ],
   "source": [
    "# evaluate random forest performance\n",
    "from sklearn.metrics import accuracy_score\n",
    "from sklearn.metrics import confusion_matrix\n",
    "test_pred=rf.predict(X_test)\n",
    "train_pred=rf.predict(X_train)\n",
    "print (\"Test Accuracy  : \", accuracy_score(y_test, test_pred))\n",
    "print (confusion_matrix(y_test, test_pred))"
   ]
  },
  {
   "cell_type": "code",
   "execution_count": 52,
   "metadata": {
    "scrolled": true
   },
   "outputs": [
    {
     "name": "stderr",
     "output_type": "stream",
     "text": [
      "D:\\Anaconda3\\lib\\site-packages\\sklearn\\svm\\base.py:196: FutureWarning: The default value of gamma will change from 'auto' to 'scale' in version 0.22 to account better for unscaled features. Set gamma explicitly to 'auto' or 'scale' to avoid this warning.\n",
      "  \"avoid this warning.\", FutureWarning)\n"
     ]
    },
    {
     "name": "stdout",
     "output_type": "stream",
     "text": [
      "0.9318423855165069\n"
     ]
    }
   ],
   "source": [
    "# SVM\n",
    "from sklearn import svm\n",
    "svmmodel=svm.SVC(kernel='rbf').fit(X_train,y_train)\n",
    "yhatsvm=svmmodel.predict(X_test)\n",
    "print(accuracy_score(y_test, yhatsvm))"
   ]
  },
  {
   "cell_type": "code",
   "execution_count": 53,
   "metadata": {
    "scrolled": true
   },
   "outputs": [
    {
     "name": "stdout",
     "output_type": "stream",
     "text": [
      "0.9299254526091587\n"
     ]
    }
   ],
   "source": [
    "# logistic regression\n",
    "from sklearn.linear_model import LogisticRegression\n",
    "LR=LogisticRegression(random_state=0, solver='lbfgs',multi_class='multinomial').fit(X_train, y_train)\n",
    "yhatlr=LR.predict(X_test)\n",
    "yproblr=LR.predict_proba(X_test)\n",
    "print(accuracy_score(y_test, yhatlr))"
   ]
  },
  {
   "cell_type": "code",
   "execution_count": 54,
   "metadata": {},
   "outputs": [
    {
     "name": "stdout",
     "output_type": "stream",
     "text": [
      "Best K is : 10 | Cross validation Accuracy : 0.9324705262913028\n"
     ]
    }
   ],
   "source": [
    "# KNN\n",
    "from sklearn.neighbors import KNeighborsClassifier\n",
    "from sklearn.model_selection import cross_val_score\n",
    "bestScore=0.0\n",
    "accList=[]\n",
    "\n",
    "for k in range(3,12):\n",
    "    \n",
    "    neigh = KNeighborsClassifier(n_neighbors=k,algorithm='auto')\n",
    "    \n",
    "    # using 10 fold cross validation for scoring the classifier's accuracy\n",
    "    scores = cross_val_score(neigh, X_train, y_train, cv=10)\n",
    "    score=scores.mean()\n",
    "    accList.append(score)\n",
    "    \n",
    "    if score > bestScore:\n",
    "        bestScore=score\n",
    "        best_clf=neigh\n",
    "        bestK=k\n",
    "        \n",
    "print(\"Best K is :\",bestK,\"| Cross validation Accuracy :\",bestScore)\n",
    "neigh=best_clf"
   ]
  },
  {
   "cell_type": "code",
   "execution_count": 55,
   "metadata": {},
   "outputs": [
    {
     "name": "stdout",
     "output_type": "stream",
     "text": [
      "0.9282215122470714\n"
     ]
    }
   ],
   "source": [
    "neigh = KNeighborsClassifier(n_neighbors =4 ).fit(X_train,y_train)\n",
    "yhatknn = neigh.predict(X_test)\n",
    "print(accuracy_score(y_test, yhatknn))"
   ]
  }
 ],
 "metadata": {
  "kernelspec": {
   "display_name": "Python 3",
   "language": "python",
   "name": "python3"
  },
  "language_info": {
   "codemirror_mode": {
    "name": "ipython",
    "version": 3
   },
   "file_extension": ".py",
   "mimetype": "text/x-python",
   "name": "python",
   "nbconvert_exporter": "python",
   "pygments_lexer": "ipython3",
   "version": "3.6.7"
  }
 },
 "nbformat": 4,
 "nbformat_minor": 2
}
